{
 "cells": [
  {
   "cell_type": "markdown",
   "id": "6ce6962c-9247-4af5-b972-10e258fd081d",
   "metadata": {},
   "source": [
    "                                            5 Feb Assignments - OOPS"
   ]
  },
  {
   "cell_type": "markdown",
   "id": "e0bf6e09-4c68-49d8-8441-e2510d1aeea7",
   "metadata": {},
   "source": [
    "Q1. Explain Class and Object with respect to Object-Oriented Programming. Give a suitable example."
   ]
  },
  {
   "cell_type": "markdown",
   "id": "1d04b80f-42df-43cd-92bc-f5933c89c5ce",
   "metadata": {},
   "source": [
    "Class:\n",
    "\n",
    "A class is considered as a blueprint of objects.\n",
    "We can think of the class as a sketch (prototype) of a house. It contains all the details about the floors, doors, windows, etc. \n",
    "Based on these descriptions we build the house. House is the object."
   ]
  },
  {
   "cell_type": "markdown",
   "id": "2363ae00-f560-40c3-aed0-e77929f6ea8c",
   "metadata": {},
   "source": [
    "Object: \n",
    "\n",
    "An object is called an instance of a class. \n",
    "For example, suppose Bike is a class then we can create objects like bike1, bike2, etc from the class."
   ]
  },
  {
   "cell_type": "code",
   "execution_count": null,
   "id": "64fb71c7-f322-4484-849b-6ceb00bfcdcb",
   "metadata": {},
   "outputs": [],
   "source": []
  },
  {
   "cell_type": "code",
   "execution_count": 15,
   "id": "86ef5f12-84fe-44a8-a6ff-a67dbd25d100",
   "metadata": {},
   "outputs": [],
   "source": [
    "# define a class\n",
    "class Bike:\n",
    "    \n",
    "    def __init__(self, name, gear):\n",
    "        self.name = name\n",
    "        self.gear = gear\n",
    "        \n",
    "    def show_bike(self):\n",
    "        print(\"My bike is \",self.name, \"and it has \", self.gear, \"Gears\")\n",
    "        "
   ]
  },
  {
   "cell_type": "code",
   "execution_count": 16,
   "id": "6f8c5463-1a94-4cca-9c97-74a2e16e9b61",
   "metadata": {},
   "outputs": [],
   "source": [
    "#example of object\n",
    "\n",
    "bike_object = Bike(\"Yamaha R1\", 6)"
   ]
  },
  {
   "cell_type": "code",
   "execution_count": 17,
   "id": "489e25b2-8ac1-400a-bbc4-1b93ef53a737",
   "metadata": {},
   "outputs": [
    {
     "name": "stdout",
     "output_type": "stream",
     "text": [
      "My bike is  Yamaha R1 and it has  6 Gears\n"
     ]
    }
   ],
   "source": [
    "bike_object.show_bike()"
   ]
  },
  {
   "cell_type": "code",
   "execution_count": null,
   "id": "1335d63a-7a69-4989-a5d6-2be5f356ef19",
   "metadata": {},
   "outputs": [],
   "source": [
    "\n",
    "\n",
    "\n"
   ]
  },
  {
   "cell_type": "markdown",
   "id": "951130b7-83d7-42be-b127-edfb67502207",
   "metadata": {},
   "source": [
    "Q2. Name the four pillars of OOPs."
   ]
  },
  {
   "cell_type": "markdown",
   "id": "2d8fc8d5-f912-4d40-bc73-621903e88d08",
   "metadata": {},
   "source": [
    "ans:\n",
    "    1. Encapsulation\n",
    "    \n",
    "    2. Inheritance\n",
    "    \n",
    "    3. Polymorphism\n",
    "    \n",
    "    4. Abstraction"
   ]
  },
  {
   "cell_type": "code",
   "execution_count": null,
   "id": "1bbf501a-b8a5-4ebf-b46b-2a483ab3e9e9",
   "metadata": {},
   "outputs": [],
   "source": [
    "\n",
    "\n"
   ]
  },
  {
   "cell_type": "markdown",
   "id": "d9805f7b-6ca6-4224-86b7-e1015066734c",
   "metadata": {},
   "source": [
    "Q3. Explain why the __init__() function is used. Give a suitable example."
   ]
  },
  {
   "cell_type": "markdown",
   "id": "e5753b32-9465-44ba-8232-31b5e2e77323",
   "metadata": {},
   "source": [
    "__init__() is a consturctor. When we are creating an object of a class,automatically this constructor will executed .\n",
    "__Init__() always take a default parameter \n",
    "\n",
    "eg: "
   ]
  },
  {
   "cell_type": "code",
   "execution_count": 18,
   "id": "eff168e4-a8b1-4b96-933c-1f8dc8f59fac",
   "metadata": {},
   "outputs": [],
   "source": [
    "class Bike:\n",
    "    \n",
    "    def __init__(self, name, gear):\n",
    "        self.name = name\n",
    "        self.gear = gear\n",
    "        \n",
    "    def show_bike(self):\n",
    "        print(\"My bike is \",self.name, \"and it has \", self.gear, \"Gears\")\n",
    "        \n",
    "        \n",
    "bike_object = Bike(\"Yamaha R1\", 6) #__init__() executes here"
   ]
  },
  {
   "cell_type": "code",
   "execution_count": 19,
   "id": "9a2fd13c-33d4-43f1-a3af-ffec05b7a7f4",
   "metadata": {},
   "outputs": [
    {
     "name": "stdout",
     "output_type": "stream",
     "text": [
      "My bike is  Yamaha R1 and it has  6 Gears\n"
     ]
    }
   ],
   "source": [
    "bike_object.show_bike()"
   ]
  },
  {
   "cell_type": "code",
   "execution_count": null,
   "id": "64d211f9-b18a-4570-8ea3-818e5db073a7",
   "metadata": {},
   "outputs": [],
   "source": [
    "\n",
    "\n",
    "\n",
    "\n"
   ]
  },
  {
   "cell_type": "markdown",
   "id": "96d279b9-223a-4b0f-8985-5d8c1a4b307e",
   "metadata": {},
   "source": [
    "Q4. Why self is used in OOPs?"
   ]
  },
  {
   "cell_type": "markdown",
   "id": "6d3b63fb-f900-4c79-b229-8d95d64ee8cd",
   "metadata": {},
   "source": [
    "self is a reference variable which is always pointing to the current object within a class\n",
    "\n",
    "the first argument of a constructor & Instance Method is always self. "
   ]
  },
  {
   "cell_type": "code",
   "execution_count": 27,
   "id": "10d056df-0ea9-4191-bd02-faa593f0db71",
   "metadata": {},
   "outputs": [],
   "source": [
    "class Test: \n",
    "    def __init__(self):\n",
    "        print(id(self))"
   ]
  },
  {
   "cell_type": "code",
   "execution_count": 28,
   "id": "a414a489-b7e5-403c-9df6-e6a107135828",
   "metadata": {},
   "outputs": [
    {
     "name": "stdout",
     "output_type": "stream",
     "text": [
      "140175337193136\n"
     ]
    }
   ],
   "source": [
    "t = Test()"
   ]
  },
  {
   "cell_type": "code",
   "execution_count": null,
   "id": "799d5b1e-6d40-48da-8587-1bc7866ad0c6",
   "metadata": {},
   "outputs": [],
   "source": [
    "\n",
    "\n",
    "\n"
   ]
  },
  {
   "cell_type": "markdown",
   "id": "5896d69e-ee3f-410b-950d-d5b9236f810e",
   "metadata": {},
   "source": [
    "Q5. What is inheritance? Give an example for each type of inheritance."
   ]
  },
  {
   "cell_type": "markdown",
   "id": "5a3910aa-4db9-4a60-ae47-5fcb2e487711",
   "metadata": {},
   "source": [
    "Inheritance : \n",
    "    \n",
    "inheriting a member from one class to another class is called Inheritance"
   ]
  },
  {
   "cell_type": "code",
   "execution_count": 46,
   "id": "90c0dafe-44bc-4cfa-93d1-8f4c876a7235",
   "metadata": {},
   "outputs": [],
   "source": [
    "                                                        #1. Single Inheritance  "
   ]
  },
  {
   "cell_type": "code",
   "execution_count": 39,
   "id": "dcc57ae0-8f14-4119-a23e-56237fe5edd9",
   "metadata": {},
   "outputs": [],
   "source": [
    "class P: \n",
    "    def m1(self):\n",
    "        print(\"Parent Class\")\n",
    "        \n",
    "        \n",
    "class C(P):\n",
    "    def m2(self):\n",
    "        print(\"Child Class\")"
   ]
  },
  {
   "cell_type": "code",
   "execution_count": 42,
   "id": "a81c2550-2b55-4005-abdd-c75b25b50386",
   "metadata": {},
   "outputs": [],
   "source": [
    "obj1 = C()"
   ]
  },
  {
   "cell_type": "code",
   "execution_count": 44,
   "id": "a77eb5f2-76bc-49ee-9f05-90a85dc6414f",
   "metadata": {},
   "outputs": [
    {
     "name": "stdout",
     "output_type": "stream",
     "text": [
      "Parent Class\n"
     ]
    }
   ],
   "source": [
    "#accessing parent class from Child Class\n",
    "\n",
    "obj1.m1()"
   ]
  },
  {
   "cell_type": "code",
   "execution_count": 45,
   "id": "6714718b-b590-4380-8190-1e0241674ce7",
   "metadata": {},
   "outputs": [
    {
     "name": "stdout",
     "output_type": "stream",
     "text": [
      "Child Class\n"
     ]
    }
   ],
   "source": [
    "obj1.m2()"
   ]
  },
  {
   "cell_type": "code",
   "execution_count": 47,
   "id": "ac004cd9-a929-4d95-9f5b-04be8415d43b",
   "metadata": {},
   "outputs": [],
   "source": [
    "\n",
    "    \n",
    "                                                            #2. Multilevel Inheritance"
   ]
  },
  {
   "cell_type": "code",
   "execution_count": 48,
   "id": "fc979d3f-d68d-49ff-9aa8-dd1c3c7859cf",
   "metadata": {},
   "outputs": [],
   "source": [
    "class P: \n",
    "    def m1(self):\n",
    "        print(\"Grand Parent Class\")\n",
    "        \n",
    "        \n",
    "class C(P):\n",
    "    def m2(self):\n",
    "        print(\"Parent Class\")\n",
    "        \n",
    "class CC(C):\n",
    "    def m3(self):\n",
    "        print(\"Child Class\")"
   ]
  },
  {
   "cell_type": "code",
   "execution_count": 50,
   "id": "9926101c-ad71-47ad-aa18-46983d315ff8",
   "metadata": {},
   "outputs": [],
   "source": [
    "obj2 = CC()"
   ]
  },
  {
   "cell_type": "code",
   "execution_count": 52,
   "id": "1da7218d-6bad-46ab-b69a-7f61d80d25e0",
   "metadata": {},
   "outputs": [
    {
     "name": "stdout",
     "output_type": "stream",
     "text": [
      "Grand Parent Class\n"
     ]
    }
   ],
   "source": [
    "obj2.m1() #accessing grand parent properties from Child"
   ]
  },
  {
   "cell_type": "code",
   "execution_count": 53,
   "id": "894bf5de-f00a-44f9-a08b-e841329dca4e",
   "metadata": {},
   "outputs": [],
   "source": [
    "\n",
    "\n",
    "\n",
    "                                                                #3. Hierarchical Inheritance"
   ]
  },
  {
   "cell_type": "code",
   "execution_count": 60,
   "id": "4a32ddb2-85d7-43d2-add0-362f9156bfaa",
   "metadata": {},
   "outputs": [],
   "source": [
    "class P: \n",
    "    def m1(self):\n",
    "        print(\"Parent Class\")\n",
    "        \n",
    "        \n",
    "class C1(P):\n",
    "    def m2(self):\n",
    "        print(\"Child Class 1\")\n",
    "        \n",
    "class C2(P):\n",
    "    def m3(self):\n",
    "        print(\"Child Class 2\")"
   ]
  },
  {
   "cell_type": "code",
   "execution_count": 61,
   "id": "39395597-3d8a-4877-aa03-6fd4752c1857",
   "metadata": {},
   "outputs": [],
   "source": [
    "obj3= C2()"
   ]
  },
  {
   "cell_type": "code",
   "execution_count": 62,
   "id": "f0e2015c-6099-4e5c-92bc-6d57ef4270d7",
   "metadata": {},
   "outputs": [
    {
     "name": "stdout",
     "output_type": "stream",
     "text": [
      "Parent Class\n"
     ]
    }
   ],
   "source": [
    "obj3.m1() #accessing parent properties from 2nd child"
   ]
  },
  {
   "cell_type": "code",
   "execution_count": 59,
   "id": "9108333e-0025-487a-b947-10eaf5dec68a",
   "metadata": {},
   "outputs": [],
   "source": [
    "\n",
    "\n",
    "\n",
    "                                                                #4. Multiple Inheritance"
   ]
  },
  {
   "cell_type": "code",
   "execution_count": 63,
   "id": "8058171c-943d-4ab9-8627-df9a491b0466",
   "metadata": {},
   "outputs": [],
   "source": [
    "class P1: \n",
    "    def m1(self):\n",
    "        print(\"Parent Class 1\")\n",
    "        \n",
    "        \n",
    "class P2:\n",
    "    def m2(self):\n",
    "        print(\"Parent Class 2\")\n",
    "        \n",
    "class C2(P1,P2):\n",
    "    def m3(self):\n",
    "        print(\"Child Class\")"
   ]
  },
  {
   "cell_type": "code",
   "execution_count": 67,
   "id": "23d48f3e-d496-453b-8992-640883ff41b6",
   "metadata": {},
   "outputs": [],
   "source": [
    "obj4 = C2()\n"
   ]
  },
  {
   "cell_type": "code",
   "execution_count": 69,
   "id": "06567fff-f6bc-40d8-a17e-1d5518219e74",
   "metadata": {},
   "outputs": [
    {
     "name": "stdout",
     "output_type": "stream",
     "text": [
      "Parent Class 1\n",
      "Parent Class 2\n",
      "Child Class\n"
     ]
    }
   ],
   "source": [
    "obj4.m1()\n",
    "obj4.m2()\n",
    "obj4.m3() #accessing properties of both parent and child class"
   ]
  },
  {
   "cell_type": "code",
   "execution_count": null,
   "id": "5dfaa5ef-bdfe-4c5d-8303-dac81ca68453",
   "metadata": {},
   "outputs": [],
   "source": []
  }
 ],
 "metadata": {
  "kernelspec": {
   "display_name": "Python 3 (ipykernel)",
   "language": "python",
   "name": "python3"
  },
  "language_info": {
   "codemirror_mode": {
    "name": "ipython",
    "version": 3
   },
   "file_extension": ".py",
   "mimetype": "text/x-python",
   "name": "python",
   "nbconvert_exporter": "python",
   "pygments_lexer": "ipython3",
   "version": "3.10.8"
  }
 },
 "nbformat": 4,
 "nbformat_minor": 5
}
