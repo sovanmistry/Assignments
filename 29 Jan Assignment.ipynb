{
 "cells": [
  {
   "cell_type": "markdown",
   "id": "0607d4ee-c33e-4c67-afb8-9db8cbab3b54",
   "metadata": {},
   "source": [
    "1. Python Prog lang developed by :\n",
    "\n",
    "    ans : Guido van Rossum"
   ]
  },
  {
   "cell_type": "markdown",
   "id": "191fc9e2-c82b-478c-b4fe-119b24835d93",
   "metadata": {},
   "source": []
  },
  {
   "cell_type": "markdown",
   "id": "d51b6235-cad9-4e69-91ca-d4e2160e893e",
   "metadata": {},
   "source": [
    "2. which type of programming does python support\n",
    "\n",
    "    Ans: Object Oriented, Structured and Functional Programming"
   ]
  },
  {
   "cell_type": "markdown",
   "id": "f76c2626-519a-4248-869a-e71f293b8dc2",
   "metadata": {},
   "source": []
  },
  {
   "cell_type": "markdown",
   "id": "8ffbfa11-123a-4794-96dc-8d4e502555f2",
   "metadata": {},
   "source": [
    "3. Is Python case sensitive when dealing with identifiers?\n",
    "    \n",
    "    Ans: YES"
   ]
  },
  {
   "cell_type": "markdown",
   "id": "a1d6d6b3-fb4a-42f2-bfa5-fde7fcec62c6",
   "metadata": {},
   "source": []
  },
  {
   "cell_type": "markdown",
   "id": "a1888738-d35f-438f-ba01-700ceca76465",
   "metadata": {},
   "source": [
    "4. correct extension of the Python file?\n",
    "  \n",
    "      ans : .py"
   ]
  },
  {
   "cell_type": "markdown",
   "id": "1a3d6abe-6439-4aad-bd52-bfeadb67e2c2",
   "metadata": {},
   "source": []
  },
  {
   "cell_type": "markdown",
   "id": "af487e38-a6f9-4090-8c2a-fa13a4212baa",
   "metadata": {},
   "source": [
    "5. Python code compiled or interpreted?\n",
    "\n",
    "    Ans : both compiled and interpreted"
   ]
  },
  {
   "cell_type": "markdown",
   "id": "3348e08b-15ec-449b-b610-92c31e2efe0d",
   "metadata": {},
   "source": []
  },
  {
   "cell_type": "markdown",
   "id": "64a19983-3c38-4cde-8d27-7709089f5372",
   "metadata": {},
   "source": [
    "6. Example of block of codes define in Python language?\n",
    "\n",
    "    ans : Indentation"
   ]
  },
  {
   "cell_type": "markdown",
   "id": "07b78174-c746-4ebb-adb2-46bd24bc990b",
   "metadata": {},
   "source": []
  },
  {
   "cell_type": "markdown",
   "id": "dcf3e40c-3ea2-40e2-b336-0f09e761a572",
   "metadata": {},
   "source": [
    "7. Character for single line comment\n",
    "    \n",
    "    ans: #"
   ]
  },
  {
   "cell_type": "markdown",
   "id": "3c2945df-64b8-41bf-a376-39146f04b724",
   "metadata": {},
   "source": []
  },
  {
   "cell_type": "markdown",
   "id": "b88a83b9-0e69-4034-afa8-3ff1c1133299",
   "metadata": {},
   "source": [
    "8. Function to find the current version of PYTHON?\n",
    "   \n",
    "       ans: sys.version"
   ]
  },
  {
   "cell_type": "markdown",
   "id": "74b60eae-cdfc-47c3-9caa-816832c23a8f",
   "metadata": {},
   "source": []
  },
  {
   "cell_type": "markdown",
   "id": "6f1dd791-5dd6-4591-90c0-33864f479d72",
   "metadata": {},
   "source": [
    "9. Creation of anonymous function at runtime by ----------\n",
    "    \n",
    "    ans : lambda"
   ]
  },
  {
   "cell_type": "markdown",
   "id": "0be445c8-2c65-4a17-a7e2-5ea07929a1a1",
   "metadata": {},
   "source": []
  },
  {
   "cell_type": "markdown",
   "id": "220f2c74-3c4f-401c-965d-139de5b9c83e",
   "metadata": {},
   "source": [
    "10. pip stand for \n",
    "\n",
    "    ans : Preferred Installer Program"
   ]
  },
  {
   "cell_type": "markdown",
   "id": "b72c4925-ab78-441a-a443-149ee6ef6c49",
   "metadata": {},
   "source": []
  },
  {
   "cell_type": "markdown",
   "id": "3c35555f-190a-49ce-b8bc-c04484b3a38d",
   "metadata": {},
   "source": [
    "11.Built in function in python\n",
    "    \n",
    "    ans : print(), filter(), range()"
   ]
  },
  {
   "cell_type": "markdown",
   "id": "9f7403af-fbe0-4024-8c6a-5536ee0b6c41",
   "metadata": {},
   "source": []
  },
  {
   "cell_type": "markdown",
   "id": "1b873512-7163-42e6-b250-f84ebde8e644",
   "metadata": {},
   "source": [
    "12.Maximum possible length of an identifier in Python?\n",
    "    \n",
    "    ans: no such restriction, it can be any length "
   ]
  },
  {
   "cell_type": "markdown",
   "id": "fbd6e316-4ca6-46d5-9d1b-f0cd36613044",
   "metadata": {},
   "source": []
  },
  {
   "cell_type": "markdown",
   "id": "e055e9a7-7954-4c0d-9d3f-29112ea2ae6b",
   "metadata": {},
   "source": [
    "13.Benifits of python?\n",
    "    \n",
    "    ans:\n",
    "    Presence of third-party modules \n",
    "    Extensive support libraries(NumPy for numerical calculations, Pandas for data analytics, etc.) \n",
    "    Versatile, Easy to read, learn and write\n",
    "    User-friendly data structures \n",
    "    High-level language \n",
    "    Dynamically typed language(No need to mention data type based on the value assigned, it takes data type) \n",
    "    Object-Oriented and Procedural  Programming language\n",
    "    Portable and Interactive\n",
    "    Ideal for prototypes – provide more functionality with less coding\n",
    "    Interpreted Language\n",
    "    Portable across Operating systems "
   ]
  },
  {
   "cell_type": "markdown",
   "id": "c7eb9852-9e26-41eb-a10c-55319519dfa4",
   "metadata": {},
   "source": []
  },
  {
   "cell_type": "markdown",
   "id": "f965e06e-dfb8-4436-a856-50921038e51d",
   "metadata": {},
   "source": [
    "14. how is memory managed in python?\n",
    "    \n",
    "    ans: Memory management in Python involves a private heap containing all Python objects and data structures.\n",
    "     The management of this private heap is ensured internally by the Python memory manager\n"
   ]
  },
  {
   "cell_type": "markdown",
   "id": "a0c893f2-4ad7-427c-895f-4b928dc62778",
   "metadata": {},
   "source": []
  },
  {
   "cell_type": "markdown",
   "id": "83809969-8abb-4790-8b9d-e8e3a78c6ba8",
   "metadata": {},
   "source": [
    "15. how to install python in windows and set path variables\n",
    "    \n",
    "    ans: \n",
    "    \n",
    "    Install python on your PC. \n",
    "    \n",
    "    Look for the location where PYTHON has been installed on your PC using the following command on your command prompt: cmd python.\n",
    "    \n",
    "    Then go to advanced system settings and add new variable and name it as PYTHON_NAME and paste the copied path.\n",
    "    \n",
    "    Then look for the path variable, select it's value and select edit\n",
    "    \n",
    "    Add a semicolon towards the end of the value if it's not present and then type %PYTHON_HOME%"
   ]
  },
  {
   "cell_type": "markdown",
   "id": "b9f5604d-8e77-4b3c-8740-534d12d980b0",
   "metadata": {},
   "source": []
  },
  {
   "cell_type": "markdown",
   "id": "3538f3fd-98a4-4e9c-b720-55747c973245",
   "metadata": {},
   "source": [
    "16.Is indentation required in python?\n",
    "    \n",
    "    ans : yes. it's strictly needed. "
   ]
  },
  {
   "cell_type": "code",
   "execution_count": null,
   "id": "18eb5a23-ae25-43ba-b535-fb674e7e7251",
   "metadata": {},
   "outputs": [],
   "source": []
  }
 ],
 "metadata": {
  "kernelspec": {
   "display_name": "Python 3 (ipykernel)",
   "language": "python",
   "name": "python3"
  },
  "language_info": {
   "codemirror_mode": {
    "name": "ipython",
    "version": 3
   },
   "file_extension": ".py",
   "mimetype": "text/x-python",
   "name": "python",
   "nbconvert_exporter": "python",
   "pygments_lexer": "ipython3",
   "version": "3.10.8"
  }
 },
 "nbformat": 4,
 "nbformat_minor": 5
}
