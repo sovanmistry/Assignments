{
 "cells": [
  {
   "cell_type": "markdown",
   "id": "d246a869-74a2-4a98-bb25-768f7ef92b52",
   "metadata": {},
   "source": [
    "                                    Assignment 30 JAN"
   ]
  },
  {
   "cell_type": "markdown",
   "id": "929456bd-d321-4fec-8190-21fc23eb99db",
   "metadata": {},
   "source": [
    "1. Program on Grade calculation"
   ]
  },
  {
   "cell_type": "code",
   "execution_count": 5,
   "id": "1b97937b-169d-4485-bdc9-68a6322745ff",
   "metadata": {},
   "outputs": [
    {
     "name": "stdin",
     "output_type": "stream",
     "text": [
      "Enter your Marks:  80.2\n"
     ]
    },
    {
     "name": "stdout",
     "output_type": "stream",
     "text": [
      "your Grade B\n"
     ]
    }
   ],
   "source": [
    "Marks = float (input ( \"Enter your Marks: \"))\n",
    "\n",
    "if Marks > 90 :\n",
    "    print (\"your Grade A\")\n",
    "    \n",
    "elif Marks > 80 :\n",
    "     print (\"your Grade B\")\n",
    "\n",
    "elif Marks > 60 :\n",
    "     print (\"your Grade C\")\n",
    "        \n",
    "else :\n",
    "     print (\"your Grade D\")"
   ]
  },
  {
   "cell_type": "markdown",
   "id": "8b098253-705b-4a6a-9a71-d8ae6df38128",
   "metadata": {},
   "source": []
  },
  {
   "cell_type": "code",
   "execution_count": null,
   "id": "c33c514f-1b8c-465b-ba83-9d14a863b6ba",
   "metadata": {},
   "outputs": [],
   "source": []
  },
  {
   "cell_type": "markdown",
   "id": "f0c4aa2d-0d8f-4cc7-b0d5-7daaa8345564",
   "metadata": {},
   "source": [
    "2. Program on Bike Tax calculation "
   ]
  },
  {
   "cell_type": "code",
   "execution_count": 7,
   "id": "1fd2fa29-72fb-474c-a7e0-8797fae668fa",
   "metadata": {},
   "outputs": [
    {
     "name": "stdin",
     "output_type": "stream",
     "text": [
      "Enter the Price of your Bike :  203232.22\n"
     ]
    },
    {
     "name": "stdout",
     "output_type": "stream",
     "text": [
      "Tax is  30484.833\n"
     ]
    }
   ],
   "source": [
    "Cost_Price = float (input (\"Enter the Price of your Bike : \"))\n",
    "\n",
    "if Cost_Price > 100000 :\n",
    "    print ( \"Tax is \" , Cost_Price*0.15)\n",
    "    \n",
    "elif Cost_Price > 50000 :\n",
    "    print (\"Tax is : \", Cost_Price*0.1)\n",
    "    \n",
    "else: \n",
    "    print(\"Tax is : \", Cost_Price*0.05)"
   ]
  },
  {
   "cell_type": "code",
   "execution_count": null,
   "id": "a9726465-f8eb-456e-ab5c-7ffd792c5c85",
   "metadata": {},
   "outputs": [],
   "source": []
  },
  {
   "cell_type": "code",
   "execution_count": null,
   "id": "c26f0cb4-3c40-41a1-a581-313cfce2e285",
   "metadata": {},
   "outputs": [],
   "source": []
  },
  {
   "cell_type": "markdown",
   "id": "652df3a8-5f48-40e1-a183-0b90ef7261af",
   "metadata": {},
   "source": [
    "3. Monuments based on City"
   ]
  },
  {
   "cell_type": "code",
   "execution_count": 10,
   "id": "32152445-7133-4764-a63f-9972dcf2176e",
   "metadata": {},
   "outputs": [
    {
     "name": "stdin",
     "output_type": "stream",
     "text": [
      "Enter the City : delHI\n"
     ]
    },
    {
     "name": "stdout",
     "output_type": "stream",
     "text": [
      " Monument of Delhi is : Red Fort\n"
     ]
    }
   ],
   "source": [
    "City = input (\"Enter the City :\")\n",
    "\n",
    "City = City.upper()\n",
    "\n",
    "if City == 'DELHI':\n",
    "    print (\" Monument of Delhi is : Red Fort\")\n",
    "    \n",
    "elif City == \"AGRA\":\n",
    "    print (\" Monument of Agra is : Taj Mahal\")\n",
    "\n",
    "elif City == \"JAIPUR\":\n",
    "    print (\" Monument of Jaipur is : Jal Mahal\")\n",
    "\n",
    "else:\n",
    "    print(\" Sorry!!!! your city isn't listed here\")\n"
   ]
  },
  {
   "cell_type": "code",
   "execution_count": null,
   "id": "ea91ba7c-6cca-4f0e-9e93-77f0090a77a8",
   "metadata": {},
   "outputs": [],
   "source": []
  },
  {
   "cell_type": "code",
   "execution_count": null,
   "id": "4498878d-19ac-4ab8-9cb9-429ec478612d",
   "metadata": {},
   "outputs": [],
   "source": []
  },
  {
   "cell_type": "markdown",
   "id": "cd578c87-2791-4b4a-a9ee-d1f9e98704bf",
   "metadata": {},
   "source": [
    "4. How many times a Given No can be divided by 3 before it is less than or equal to 10"
   ]
  },
  {
   "cell_type": "code",
   "execution_count": 11,
   "id": "a131c882-62d0-4b2c-9b94-81b90d70f8e7",
   "metadata": {},
   "outputs": [
    {
     "name": "stdin",
     "output_type": "stream",
     "text": [
      "Give a Number:  17\n"
     ]
    },
    {
     "name": "stdout",
     "output_type": "stream",
     "text": [
      " Given No can be divided by 3 before it is less than or equal to 10 : 2\n"
     ]
    }
   ],
   "source": [
    "\n",
    "number = float(input(\"Give a Number: \"))\n",
    "\n",
    "if number > 10:\n",
    "    Count = number/3 - 3\n",
    "    print(\" Given No can be divided by 3 before it is less than or equal to 10 :\", int(Count))\n",
    "    \n",
    "else: \n",
    "    print(\" Sorry!!! your number is less than 10\")"
   ]
  },
  {
   "cell_type": "code",
   "execution_count": null,
   "id": "5ba66c81-3ca1-46a1-b1b1-dc8168212eda",
   "metadata": {},
   "outputs": [],
   "source": []
  },
  {
   "cell_type": "code",
   "execution_count": null,
   "id": "bb1cd5b7-9a40-4397-b2b6-992f793135d3",
   "metadata": {},
   "outputs": [],
   "source": []
  },
  {
   "cell_type": "markdown",
   "id": "b69934fe-0ea8-4119-b578-077cf975fac6",
   "metadata": {},
   "source": [
    "5. when and why use While Loop"
   ]
  },
  {
   "cell_type": "code",
   "execution_count": 4,
   "id": "3033dd2b-2b74-47a0-a848-f91099a77c74",
   "metadata": {},
   "outputs": [
    {
     "data": {
      "text/plain": [
       "\"\\n1. our function should check the condition first before it executes \\n2. whe we don't know how many time (no of iterations) our loop will run, it executes only when our condition is true.\\n\""
      ]
     },
     "execution_count": 4,
     "metadata": {},
     "output_type": "execute_result"
    }
   ],
   "source": [
    "\"\"\"\n",
    "1. our function should check the condition first before it executes \n",
    "2. whe we don't know how many time (no of iterations) our loop will run, it executes only when our condition is true.\n",
    "\"\"\"\n"
   ]
  },
  {
   "cell_type": "code",
   "execution_count": 3,
   "id": "8b366bbc-8ba4-4d23-815c-fed6515f2665",
   "metadata": {},
   "outputs": [],
   "source": [
    "#suppose we are trying to get the FIBONACCI Series - here our loop only stops when our condition wont satisfy"
   ]
  },
  {
   "cell_type": "code",
   "execution_count": 12,
   "id": "6a0f78b2-1ab8-4193-942e-168398d197fc",
   "metadata": {},
   "outputs": [
    {
     "name": "stdin",
     "output_type": "stream",
     "text": [
      "Enter the limit 5\n"
     ]
    },
    {
     "name": "stdout",
     "output_type": "stream",
     "text": [
      "0\n",
      "1\n",
      "1\n",
      "2\n",
      "3\n",
      "5\n"
     ]
    }
   ],
   "source": [
    "num = int(input(\"Enter the limit\"))\n",
    "\n",
    "aprev = 0\n",
    "bnext = 1\n",
    "i = 0\n",
    "\n",
    "while i <= num :\n",
    "    print(aprev)\n",
    "    c = aprev + bnext\n",
    "    aprev = bnext\n",
    "    bnext = c\n",
    "    i = i+1\n"
   ]
  },
  {
   "cell_type": "code",
   "execution_count": null,
   "id": "ee32d047-d0de-4c4e-a5ed-2ba372983ba1",
   "metadata": {},
   "outputs": [],
   "source": []
  },
  {
   "cell_type": "code",
   "execution_count": null,
   "id": "542481ea-d760-4608-93f3-a8b14e7e3585",
   "metadata": {},
   "outputs": [],
   "source": []
  },
  {
   "cell_type": "markdown",
   "id": "b393ed07-215d-4460-aa79-f550cf07fdba",
   "metadata": {},
   "source": [
    "6. NESTED WHILE LOOP TO PRINT 3 DIFFERNT PATTERN"
   ]
  },
  {
   "cell_type": "code",
   "execution_count": null,
   "id": "8dc1c3f4-b6a5-4c3b-8aa8-99c776da4a01",
   "metadata": {},
   "outputs": [],
   "source": [
    "#PATTERN 1"
   ]
  },
  {
   "cell_type": "code",
   "execution_count": 13,
   "id": "48c8858e-2ff8-4a99-907f-549c0db5ff73",
   "metadata": {},
   "outputs": [
    {
     "name": "stdin",
     "output_type": "stream",
     "text": [
      "enter the no of rows:  6\n"
     ]
    },
    {
     "name": "stdout",
     "output_type": "stream",
     "text": [
      "1 \n",
      "\n",
      "1 2 \n",
      "\n",
      "1 2 3 \n",
      "\n",
      "1 2 3 4 \n",
      "\n",
      "1 2 3 4 5 \n",
      "\n",
      "1 2 3 4 5 6 \n",
      "\n"
     ]
    }
   ],
   "source": [
    "num = int(input(\"enter the no of rows: \"))\n",
    "          \n",
    "i = 1\n",
    "while i<=num:\n",
    "    j = 1\n",
    "    while (j<=i):\n",
    "        print(j, end = \" \")\n",
    "        j = j+1\n",
    "    print(\"\\n\")\n",
    "    i = i+1"
   ]
  },
  {
   "cell_type": "code",
   "execution_count": null,
   "id": "c25bd64d-98e3-429a-a82c-98cd3ed9ca62",
   "metadata": {},
   "outputs": [],
   "source": [
    "#Pattern 2"
   ]
  },
  {
   "cell_type": "code",
   "execution_count": 14,
   "id": "a22bdd8f-8172-4a91-9448-e0a324eeb5b6",
   "metadata": {},
   "outputs": [
    {
     "name": "stdin",
     "output_type": "stream",
     "text": [
      "enter the no of rows:  6\n"
     ]
    },
    {
     "name": "stdout",
     "output_type": "stream",
     "text": [
      "0 0 0 0 0 0 \n",
      "\n",
      "1 1 1 1 1 \n",
      "\n",
      "2 2 2 2 \n",
      "\n",
      "3 3 3 \n",
      "\n",
      "4 4 \n",
      "\n",
      "5 \n",
      "\n",
      "\n",
      "\n"
     ]
    }
   ],
   "source": [
    "num = int(input(\"enter the no of rows: \"))\n",
    "          \n",
    "i = 0\n",
    "while i<=num :\n",
    "    j = num\n",
    "    while (j>i):\n",
    "        print(i,  end = \" \")\n",
    "        j = j-1\n",
    "    print(\"\\n\")\n",
    "    i = i+1"
   ]
  },
  {
   "cell_type": "code",
   "execution_count": null,
   "id": "4d1d2921-ca63-4acd-bc1b-ff592bc5b202",
   "metadata": {},
   "outputs": [],
   "source": [
    "#pattern 3"
   ]
  },
  {
   "cell_type": "code",
   "execution_count": 15,
   "id": "617aaa96-eb47-49f3-b39e-4fe51f8bbea9",
   "metadata": {},
   "outputs": [
    {
     "name": "stdin",
     "output_type": "stream",
     "text": [
      "enter the no of ROWS of PYRAMID 5\n"
     ]
    },
    {
     "name": "stdout",
     "output_type": "stream",
     "text": [
      "          * \n",
      "\n",
      "        * * * \n",
      "\n",
      "      * * * * * \n",
      "\n",
      "    * * * * * * * \n",
      "\n",
      "  * * * * * * * * * \n",
      "\n"
     ]
    }
   ],
   "source": [
    "num = int (input(\"enter the no of ROWS of PYRAMID\"))\n",
    "count = 1\n",
    "\n",
    "while count<=num:\n",
    "    i = 0\n",
    "    \n",
    "    while i<= (num-count):\n",
    "        print(\" \", end = \" \")\n",
    "        i+= 1\n",
    "    i=0    \n",
    "    while i < (2*count-1):\n",
    "        print(\"*\", end = \" \")\n",
    "        i+= 1\n",
    "        \n",
    "    print(\"\\n\")\n",
    "    count += 1\n"
   ]
  },
  {
   "cell_type": "code",
   "execution_count": null,
   "id": "4463be0b-2288-4f80-a198-efd1a4a6cf94",
   "metadata": {},
   "outputs": [],
   "source": []
  },
  {
   "cell_type": "code",
   "execution_count": null,
   "id": "2fee25c7-d0ab-4fc1-8eac-560775ff3265",
   "metadata": {},
   "outputs": [],
   "source": []
  },
  {
   "cell_type": "markdown",
   "id": "90fe0c97-ceef-49c4-b9ff-e85c57ac81a1",
   "metadata": {},
   "source": [
    "7. Reverse a While Loop to display number from 10 to 1"
   ]
  },
  {
   "cell_type": "code",
   "execution_count": 16,
   "id": "3a3b706b-b4c5-4a66-9179-be6df1fa2ddb",
   "metadata": {},
   "outputs": [
    {
     "name": "stdout",
     "output_type": "stream",
     "text": [
      "10\n",
      "9\n",
      "8\n",
      "7\n",
      "6\n",
      "5\n",
      "4\n",
      "3\n",
      "2\n",
      "1\n"
     ]
    }
   ],
   "source": [
    "num = 10\n",
    "\n",
    "while num > 0:\n",
    "    print(num)\n",
    "    num = num -1"
   ]
  },
  {
   "cell_type": "code",
   "execution_count": null,
   "id": "b3e7d1e4-c218-4736-a3ae-e042009370fd",
   "metadata": {},
   "outputs": [],
   "source": []
  },
  {
   "cell_type": "code",
   "execution_count": null,
   "id": "843f50a0-241c-485f-9f48-e304914dc318",
   "metadata": {},
   "outputs": [],
   "source": []
  },
  {
   "cell_type": "markdown",
   "id": "968e6f8d-2340-4569-8e2a-f2d4462ce5e2",
   "metadata": {},
   "source": [
    "8. Reverse a While Loop to display number from 10 to 1"
   ]
  },
  {
   "cell_type": "code",
   "execution_count": 17,
   "id": "0a72fa4f-0d0e-420f-bda7-91179daa3a7d",
   "metadata": {},
   "outputs": [
    {
     "data": {
      "text/plain": [
       "[10, 9, 8, 7, 6, 5, 4, 3, 2, 1]"
      ]
     },
     "execution_count": 17,
     "metadata": {},
     "output_type": "execute_result"
    }
   ],
   "source": [
    "#another approach: \n",
    "\n",
    "num = 10\n",
    "l = []\n",
    "while num > 0:\n",
    "    l.append(num)\n",
    "    num = num -1\n",
    "l"
   ]
  }
 ],
 "metadata": {
  "kernelspec": {
   "display_name": "Python 3 (ipykernel)",
   "language": "python",
   "name": "python3"
  },
  "language_info": {
   "codemirror_mode": {
    "name": "ipython",
    "version": 3
   },
   "file_extension": ".py",
   "mimetype": "text/x-python",
   "name": "python",
   "nbconvert_exporter": "python",
   "pygments_lexer": "ipython3",
   "version": "3.10.8"
  }
 },
 "nbformat": 4,
 "nbformat_minor": 5
}
