{
 "cells": [
  {
   "cell_type": "raw",
   "id": "43ce5844-17e3-4deb-bf20-7ba965826c36",
   "metadata": {},
   "source": [
    "1. Python Prog lang developed by : Guido van Rossum"
   ]
  },
  {
   "cell_type": "code",
   "execution_count": null,
   "id": "57c7dfca-f0a0-45b3-9b79-7c1af5ec2122",
   "metadata": {},
   "outputs": [],
   "source": []
  },
  {
   "cell_type": "raw",
   "id": "a27eb037-22e0-4d2e-b53f-6aa195b9408b",
   "metadata": {},
   "source": [
    "2. which type of programming does python support\n",
    "Ans: Object Oriented, Structured and Functional Programming"
   ]
  },
  {
   "cell_type": "code",
   "execution_count": null,
   "id": "3f784913-7018-48ea-8e0c-e099c6db25b0",
   "metadata": {},
   "outputs": [],
   "source": []
  },
  {
   "cell_type": "raw",
   "id": "0b620543-405b-4ac4-b6db-6ccebbd222bc",
   "metadata": {},
   "source": [
    "3. Is Python case sensitive when dealing with identifiers?\n",
    "Ans: YES"
   ]
  },
  {
   "cell_type": "code",
   "execution_count": null,
   "id": "33485c32-550a-4855-846e-8bc87ae7f176",
   "metadata": {},
   "outputs": [],
   "source": []
  },
  {
   "cell_type": "raw",
   "id": "fcbc4e58-0434-499b-9898-ca7bf41b3aea",
   "metadata": {},
   "source": [
    "4. correct extension of the Python file?\n",
    "ans : .py"
   ]
  },
  {
   "cell_type": "code",
   "execution_count": null,
   "id": "8d602703-d546-4c13-9eee-aaf7d8d46e49",
   "metadata": {},
   "outputs": [],
   "source": []
  },
  {
   "cell_type": "raw",
   "id": "ef8f895c-cc06-45f5-a057-6cae8c0c5d00",
   "metadata": {},
   "source": [
    "5. Python code compiled or interpreted?\n",
    "Ans : both compiled and interpreted"
   ]
  },
  {
   "cell_type": "code",
   "execution_count": null,
   "id": "bf66b94c-8dab-4878-96ea-9d194fd52c04",
   "metadata": {},
   "outputs": [],
   "source": []
  },
  {
   "cell_type": "raw",
   "id": "e254b6ef-8b47-470a-b595-c0e17bc7c6bc",
   "metadata": {},
   "source": [
    "6. Example of block of codes define in Python language?\n",
    "ans : Indentation"
   ]
  },
  {
   "cell_type": "code",
   "execution_count": null,
   "id": "1786b636-0c0a-4843-99df-6ec4b4e657d0",
   "metadata": {},
   "outputs": [],
   "source": []
  },
  {
   "cell_type": "raw",
   "id": "29e19e1e-a389-450d-8864-418954a19c97",
   "metadata": {},
   "source": [
    "7. Character for single line comment\n",
    "ans: #"
   ]
  },
  {
   "cell_type": "code",
   "execution_count": null,
   "id": "384d87ca-2a33-4509-a6f2-3b4171c69c61",
   "metadata": {},
   "outputs": [],
   "source": []
  },
  {
   "cell_type": "raw",
   "id": "b3da95bd-4405-4be3-bbfd-3b2252c2e2c7",
   "metadata": {},
   "source": [
    "8. Function to find the current version of PYTHON?\n",
    "ans: sys.version"
   ]
  },
  {
   "cell_type": "code",
   "execution_count": null,
   "id": "a1840491-f967-47a9-b588-dddb2ff3fc60",
   "metadata": {},
   "outputs": [],
   "source": []
  },
  {
   "cell_type": "raw",
   "id": "f6b1969c-8eb1-404b-95c6-ff2d4e85f7e8",
   "metadata": {},
   "source": [
    "9. Creation of anonymous function at runtime by ----------\n",
    "ans : lambda"
   ]
  },
  {
   "cell_type": "code",
   "execution_count": null,
   "id": "79b18948-a39b-42d3-9a98-2756787da788",
   "metadata": {},
   "outputs": [],
   "source": []
  },
  {
   "cell_type": "raw",
   "id": "d96b467a-a83f-4801-8657-885e8f136aa5",
   "metadata": {},
   "source": [
    "10. pip stand for \n",
    "ans : Preferred Installer Program"
   ]
  },
  {
   "cell_type": "code",
   "execution_count": null,
   "id": "badbf1cc-2a4c-4dbd-8eef-c1cde92b8ba3",
   "metadata": {},
   "outputs": [],
   "source": []
  },
  {
   "cell_type": "markdown",
   "id": "3c35555f-190a-49ce-b8bc-c04484b3a38d",
   "metadata": {},
   "source": [
    "11.Built in function in python\n",
    "ans : print(), filter(), range()"
   ]
  },
  {
   "cell_type": "raw",
   "id": "b7d7e57b-8ff6-47d5-9190-f705a4bec3b7",
   "metadata": {},
   "source": []
  },
  {
   "cell_type": "raw",
   "id": "cfb61aff-c4b0-488f-9d4a-00f46f859044",
   "metadata": {},
   "source": [
    "12.Maximum possible length of an identifier in Python?\n",
    "ans: no such restriction, it can be any length "
   ]
  },
  {
   "cell_type": "code",
   "execution_count": null,
   "id": "fc2db88c-53f9-41f9-887a-2bac8a29c8b6",
   "metadata": {},
   "outputs": [],
   "source": []
  },
  {
   "cell_type": "raw",
   "id": "fbecb74b-f6e3-438c-b2f2-0455534c8dc3",
   "metadata": {},
   "source": [
    "13.Benifits of python?\n",
    "ans:\n",
    "    Presence of third-party modules \n",
    "    Extensive support libraries(NumPy for numerical calculations, Pandas for data analytics, etc.) \n",
    "    Versatile, Easy to read, learn and write\n",
    "    User-friendly data structures \n",
    "    High-level language \n",
    "    Dynamically typed language(No need to mention data type based on the value assigned, it takes data type) \n",
    "    Object-Oriented and Procedural  Programming language\n",
    "    Portable and Interactive\n",
    "    Ideal for prototypes – provide more functionality with less coding\n",
    "    Interpreted Language\n",
    "    Portable across Operating systems "
   ]
  },
  {
   "cell_type": "code",
   "execution_count": null,
   "id": "75735339-145e-40d2-aed9-8967315c2ad5",
   "metadata": {},
   "outputs": [],
   "source": []
  },
  {
   "cell_type": "raw",
   "id": "e8350732-64ba-4faf-a7d5-254ab68e5feb",
   "metadata": {},
   "source": [
    "14. how is memory managed in python?\n",
    "ams: Memory management in Python involves a private heap containing all Python objects and data structures.\n",
    "     The management of this private heap is ensured internally by the Python memory manager\n"
   ]
  },
  {
   "cell_type": "code",
   "execution_count": null,
   "id": "43478245-31af-4f01-a812-c28770874eb6",
   "metadata": {},
   "outputs": [],
   "source": []
  },
  {
   "cell_type": "raw",
   "id": "64386349-2c62-4309-8abf-569d1a6879f6",
   "metadata": {},
   "source": [
    "15. how to install python in windows and set path variables\n",
    "ans: \n",
    "Install python on your PC. \n",
    "Look for the location where PYTHON has been installed on your PC using the following command on your command prompt: cmd python.\n",
    "Then go to advanced system settings and add new variable and name it as PYTHON_NAME and paste the copied path.\n",
    "Then look for the path variable, select it's value and select edit\n",
    "Add a semicolon towards the end of the value if it's not present and then type %PYTHON_HOME%"
   ]
  },
  {
   "cell_type": "code",
   "execution_count": null,
   "id": "799f5297-2d6a-4f8b-a861-f184fa640428",
   "metadata": {},
   "outputs": [],
   "source": []
  },
  {
   "cell_type": "raw",
   "id": "e933d55b-6482-4b14-8c32-4649c9498874",
   "metadata": {},
   "source": [
    "16.Is indentation required in python?\n",
    "ans : yes. it's strictly needed. "
   ]
  }
 ],
 "metadata": {
  "kernelspec": {
   "display_name": "Python 3 (ipykernel)",
   "language": "python",
   "name": "python3"
  },
  "language_info": {
   "codemirror_mode": {
    "name": "ipython",
    "version": 3
   },
   "file_extension": ".py",
   "mimetype": "text/x-python",
   "name": "python",
   "nbconvert_exporter": "python",
   "pygments_lexer": "ipython3",
   "version": "3.10.8"
  }
 },
 "nbformat": 4,
 "nbformat_minor": 5
}
