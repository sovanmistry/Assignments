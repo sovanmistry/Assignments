{
 "cells": [
  {
   "cell_type": "markdown",
   "id": "31935317-1440-4aa6-9a07-54cc84d97b62",
   "metadata": {},
   "source": [
    "                                                                3rd Feb Assignment"
   ]
  },
  {
   "cell_type": "markdown",
   "id": "ec9dd1d7-48f7-4d60-b78c-26403572145f",
   "metadata": {},
   "source": [
    "Q1. Which keyword is used to create a function? Create a function to return a list of odd numbers in the\n",
    "range of 1 to 25."
   ]
  },
  {
   "cell_type": "markdown",
   "id": "d9cbd90a-5038-489e-b760-2d14dafbd209",
   "metadata": {},
   "source": [
    "Ans : Def "
   ]
  },
  {
   "cell_type": "code",
   "execution_count": 57,
   "id": "974e1ffd-dc03-4551-9156-5cbc561c234b",
   "metadata": {},
   "outputs": [
    {
     "data": {
      "text/plain": [
       "[1, 3, 5, 7, 9, 11, 13, 15, 17, 19, 21, 23, 25]"
      ]
     },
     "execution_count": 57,
     "metadata": {},
     "output_type": "execute_result"
    }
   ],
   "source": [
    "#Create a function to return a list of odd numbers in the range of 1 to 25.\n",
    "\n",
    "n = range(1, 26)\n",
    "l = []\n",
    "\n",
    "for i in n:\n",
    "    if i%2 == 1:\n",
    "        l.append(i)\n",
    "        \n",
    "l"
   ]
  },
  {
   "cell_type": "code",
   "execution_count": null,
   "id": "b4da5e38-46f0-44e7-885d-f01ee9561912",
   "metadata": {},
   "outputs": [],
   "source": [
    "\n",
    "\n",
    "\n"
   ]
  },
  {
   "cell_type": "markdown",
   "id": "15b49e70-8131-480b-a594-1704da4c2cbd",
   "metadata": {},
   "source": [
    "Q2. Why *args and **kwargs is used in some functions? Create a function each for *args and **kwargs\n",
    "to demonstrate their use."
   ]
  },
  {
   "cell_type": "markdown",
   "id": "6bc34bb5-1bed-40d6-a2d6-683417ab7668",
   "metadata": {},
   "source": [
    "Ans: \n",
    "\n",
    "\n",
    "*args : it helps us to pass the variable length arguments to the function"
   ]
  },
  {
   "cell_type": "code",
   "execution_count": 58,
   "id": "faa64832-b903-432e-ad7e-8bec94cd5c37",
   "metadata": {},
   "outputs": [],
   "source": [
    "#use of *args : addition of n numbers. \n",
    "\n",
    "\n",
    "def addition(*num):\n",
    "    sum = 0 \n",
    "    for i in num:\n",
    "        sum += i\n",
    "        \n",
    "    print(\"Sum is \", sum)\n",
    "    "
   ]
  },
  {
   "cell_type": "code",
   "execution_count": 59,
   "id": "9e5db6a2-4b76-49d0-a28d-23cda337c29d",
   "metadata": {},
   "outputs": [
    {
     "name": "stdout",
     "output_type": "stream",
     "text": [
      "Sum is  7\n"
     ]
    }
   ],
   "source": [
    "addition(3,4)"
   ]
  },
  {
   "cell_type": "code",
   "execution_count": null,
   "id": "8c815e2d-7483-4324-aca0-b1c54f5a00fc",
   "metadata": {},
   "outputs": [
    {
     "name": "stdout",
     "output_type": "stream",
     "text": [
      "Sum is  807\n"
     ]
    }
   ],
   "source": [
    "addition(100,200,500,3,4)"
   ]
  },
  {
   "cell_type": "code",
   "execution_count": null,
   "id": "c1da018b-d11a-497f-87ca-7d99f3e75e78",
   "metadata": {},
   "outputs": [],
   "source": [
    "\n"
   ]
  },
  {
   "cell_type": "markdown",
   "id": "016d564e-e09c-40e1-990f-c491ee50f10f",
   "metadata": {},
   "source": [
    "kwargs: it helps us to pass variable number of key value pair (keyword arguments dictionary) to function"
   ]
  },
  {
   "cell_type": "code",
   "execution_count": null,
   "id": "762ff9d7-ef0f-4f5c-b1d7-9382a1369fbe",
   "metadata": {},
   "outputs": [],
   "source": [
    "#use of *kwargs : print the key value pair of dictionary:\n",
    "\n",
    "def show(**dict):\n",
    "    \n",
    "    for key, value in dict.items():\n",
    "        print (\"{} is {} \".format(key, value))\n",
    "        "
   ]
  },
  {
   "cell_type": "code",
   "execution_count": null,
   "id": "19ba0f38-ccc0-4d78-b42f-b15322637f24",
   "metadata": {},
   "outputs": [
    {
     "name": "stdout",
     "output_type": "stream",
     "text": [
      "name is Sovan \n",
      "occupation is Job \n",
      "experience is 5 years \n"
     ]
    }
   ],
   "source": [
    "show (name = 'Sovan', occupation = 'Job', experience = '5 years')\n"
   ]
  },
  {
   "cell_type": "code",
   "execution_count": null,
   "id": "b785bc33-3387-45e7-aa02-19537085c33e",
   "metadata": {},
   "outputs": [
    {
     "name": "stdout",
     "output_type": "stream",
     "text": [
      "name is Kamlesh \n",
      "occupation is Business \n",
      "experience is 10 years \n",
      "gmail is abc@ihm.co.in \n",
      "phn is 891212122 \n"
     ]
    }
   ],
   "source": [
    "show (name = 'Kamlesh', occupation = 'Business', experience = '10 years', gmail = \"abc@ihm.co.in\", phn = 891212122)\n"
   ]
  },
  {
   "cell_type": "code",
   "execution_count": null,
   "id": "6b8a7903-cb92-4a2a-820f-ad553a796481",
   "metadata": {},
   "outputs": [],
   "source": [
    "\n",
    "\n",
    "\n",
    "\n",
    "\n"
   ]
  },
  {
   "cell_type": "markdown",
   "id": "d3bdc40e-da7e-49f3-95f6-e373771c687e",
   "metadata": {},
   "source": [
    "Q3. What is an iterator in python? Name the method used to initialise the iterator object and the method\n",
    "used for iteration. Use these methods to print the first five elements of the given list [2, 4, 6, 8, 10, 12, 14,\n",
    "16, 18, 20]."
   ]
  },
  {
   "cell_type": "markdown",
   "id": "29321d30-9e16-454c-972c-8c5409536915",
   "metadata": {},
   "source": [
    "Iterator : \n",
    "\n",
    "on which objects we can use iter() & next() function call iteratior. \n",
    "e.g : tuple, set, string"
   ]
  },
  {
   "cell_type": "code",
   "execution_count": null,
   "id": "c9a44fc7-3741-4ce5-b675-a25895e5fc06",
   "metadata": {},
   "outputs": [],
   "source": [
    "#iterator as tuple: \n",
    "\n",
    "s = ('Sovan', 'Kamlesh', 'Deadpool')\n",
    "s = iter(s)"
   ]
  },
  {
   "cell_type": "code",
   "execution_count": null,
   "id": "4c3dc7c9-14f1-4820-a7a1-a953af36362f",
   "metadata": {},
   "outputs": [
    {
     "data": {
      "text/plain": [
       "'Sovan'"
      ]
     },
     "execution_count": 65,
     "metadata": {},
     "output_type": "execute_result"
    }
   ],
   "source": [
    "next(s)"
   ]
  },
  {
   "cell_type": "code",
   "execution_count": null,
   "id": "0491ce47-8277-45bb-87ca-70eb90df3658",
   "metadata": {},
   "outputs": [
    {
     "data": {
      "text/plain": [
       "'Kamlesh'"
      ]
     },
     "execution_count": 66,
     "metadata": {},
     "output_type": "execute_result"
    }
   ],
   "source": [
    "next(s)"
   ]
  },
  {
   "cell_type": "code",
   "execution_count": 43,
   "id": "92b428f4-d2bf-4bb7-a091-2c27e5fb60f2",
   "metadata": {},
   "outputs": [
    {
     "data": {
      "text/plain": [
       "'Deadpool'"
      ]
     },
     "execution_count": 43,
     "metadata": {},
     "output_type": "execute_result"
    }
   ],
   "source": [
    "next(s)"
   ]
  },
  {
   "cell_type": "code",
   "execution_count": null,
   "id": "53e6e2d6-85de-446c-b112-3e376cacf622",
   "metadata": {},
   "outputs": [],
   "source": []
  },
  {
   "cell_type": "code",
   "execution_count": null,
   "id": "a58df4c8-2140-4ace-9f1e-a95e511c2590",
   "metadata": {},
   "outputs": [],
   "source": [
    "\n"
   ]
  },
  {
   "cell_type": "code",
   "execution_count": 44,
   "id": "3615ba2a-8ea6-45be-aa35-03a569ef7930",
   "metadata": {},
   "outputs": [],
   "source": [
    "#iterator as tuple:\n",
    "\n",
    "s = 'Sovan'\n",
    "s = iter(s)\n"
   ]
  },
  {
   "cell_type": "code",
   "execution_count": 45,
   "id": "1b02c4b7-bb0f-4ee4-9c44-0d977ee5eb87",
   "metadata": {},
   "outputs": [
    {
     "data": {
      "text/plain": [
       "'S'"
      ]
     },
     "execution_count": 45,
     "metadata": {},
     "output_type": "execute_result"
    }
   ],
   "source": [
    "next(s)"
   ]
  },
  {
   "cell_type": "code",
   "execution_count": 46,
   "id": "7ac2140b-a103-422c-b53a-cdee736622c6",
   "metadata": {},
   "outputs": [
    {
     "data": {
      "text/plain": [
       "'o'"
      ]
     },
     "execution_count": 46,
     "metadata": {},
     "output_type": "execute_result"
    }
   ],
   "source": [
    "next(s)"
   ]
  },
  {
   "cell_type": "code",
   "execution_count": null,
   "id": "58b9b209-ef7b-4fdc-86dc-ea52fae5ff5e",
   "metadata": {},
   "outputs": [],
   "source": [
    "\n",
    "\n",
    "\n",
    "\n"
   ]
  },
  {
   "cell_type": "markdown",
   "id": "bfe0a3c7-39d9-4bd7-924a-9dd10fdb6428",
   "metadata": {},
   "source": [
    "Q4. What is a generator function in python? Why yield keyword is used? Give an example of a generator\n",
    "function."
   ]
  },
  {
   "cell_type": "markdown",
   "id": "e06faf97-63c8-41be-8975-fcf630673ae6",
   "metadata": {},
   "source": [
    "Genrator Function : \n",
    "\n",
    "it's a normal function, but it contains \"yield\" instead of return to get the value\n",
    "\n",
    "it used for memory utilization"
   ]
  },
  {
   "cell_type": "code",
   "execution_count": 78,
   "id": "bfedcf71-4047-4a7b-b2f7-a75fb9804824",
   "metadata": {},
   "outputs": [],
   "source": [
    "def get_odd_number(limit):\n",
    "    n=1\n",
    "    \n",
    "    while n<=limit:\n",
    "        yield n\n",
    "        n+=2\n",
    "    \n",
    "number=get_odd_number(10)\n"
   ]
  },
  {
   "cell_type": "code",
   "execution_count": 79,
   "id": "c9480ed2-66c2-46fb-ab77-fb8a6a61da50",
   "metadata": {},
   "outputs": [
    {
     "name": "stdout",
     "output_type": "stream",
     "text": [
      "1\n"
     ]
    }
   ],
   "source": [
    "print(next(number))"
   ]
  },
  {
   "cell_type": "code",
   "execution_count": 80,
   "id": "aac67d20-1197-4862-8374-220a7f4b1f1e",
   "metadata": {},
   "outputs": [
    {
     "name": "stdout",
     "output_type": "stream",
     "text": [
      "3\n"
     ]
    }
   ],
   "source": [
    "print(next(number))"
   ]
  },
  {
   "cell_type": "code",
   "execution_count": null,
   "id": "d356cb97-a015-4297-9218-3c8f31484427",
   "metadata": {},
   "outputs": [],
   "source": [
    "\n",
    "\n",
    "\n",
    "\n",
    "\n",
    "\n",
    "\n"
   ]
  },
  {
   "cell_type": "markdown",
   "id": "b5839ff6-8a8b-48fe-8752-6d7d63f2db64",
   "metadata": {},
   "source": [
    "Q5. function for prime numbers less than 1000.  print the\n",
    "first 20 prime numbers."
   ]
  },
  {
   "cell_type": "code",
   "execution_count": 12,
   "id": "a26bab50-0b93-406f-92fe-2f52123d8a3a",
   "metadata": {},
   "outputs": [],
   "source": [
    "def check_prime(n):\n",
    "    \n",
    "    if n==1 or n==0:\n",
    "        return False\n",
    "        \n",
    "    else:\n",
    "        i = 2\n",
    "        for i in range(2,n-1):\n",
    "            if n%i == 0:\n",
    "                return False\n",
    "    return n\n",
    "                \n",
    "    "
   ]
  },
  {
   "cell_type": "code",
   "execution_count": null,
   "id": "bf3b0dbf-99f6-4f59-bf1a-f873cbc5a863",
   "metadata": {},
   "outputs": [],
   "source": []
  },
  {
   "cell_type": "code",
   "execution_count": 13,
   "id": "2a24ce8a-5694-4a86-88ab-0e3eca123901",
   "metadata": {},
   "outputs": [
    {
     "name": "stdout",
     "output_type": "stream",
     "text": [
      "2\n",
      "3\n",
      "5\n",
      "7\n",
      "11\n",
      "13\n",
      "17\n",
      "19\n"
     ]
    }
   ],
   "source": [
    "l =[]\n",
    "count = 0\n",
    "for num in range(1, 1000):\n",
    "    \n",
    "    if count<20:\n",
    "        if (check_prime(num))!=False:\n",
    "            print(num)\n",
    "        count +=1\n",
    "        \n",
    "            \n",
    "           "
   ]
  },
  {
   "cell_type": "code",
   "execution_count": 10,
   "id": "cc62120b-8ca1-4c78-93cf-18df70aae47b",
   "metadata": {},
   "outputs": [],
   "source": []
  },
  {
   "cell_type": "code",
   "execution_count": null,
   "id": "431b6c79-2844-430b-a23e-bb2ada6cda08",
   "metadata": {},
   "outputs": [],
   "source": []
  },
  {
   "cell_type": "markdown",
   "id": "420d023c-36d1-4e7e-886d-6ad02c466ab5",
   "metadata": {},
   "source": [
    "Q6. Write a python program to print the first 10 Fibonacci numbers using a while loop."
   ]
  },
  {
   "cell_type": "code",
   "execution_count": 14,
   "id": "6d28845f-d07a-4459-bd1a-7c283252b2a1",
   "metadata": {},
   "outputs": [
    {
     "data": {
      "text/plain": [
       "[1, 1, 2, 3, 5, 8, 13, 21, 34, 55]"
      ]
     },
     "execution_count": 14,
     "metadata": {},
     "output_type": "execute_result"
    }
   ],
   "source": [
    "num_prev = 1\n",
    "num_next = 1\n",
    "\n",
    "l = [num_prev, num_next]\n",
    "while len(l)<10:\n",
    "    new = num_prev+num_next\n",
    "    l.append(new)\n",
    "    num_prev = num_next\n",
    "    num_next = new\n",
    "\n",
    "l"
   ]
  },
  {
   "cell_type": "code",
   "execution_count": null,
   "id": "2ea37a00-cd57-48e4-ac74-f5f0cdc42148",
   "metadata": {},
   "outputs": [],
   "source": [
    "\n",
    "\n",
    "\n"
   ]
  },
  {
   "cell_type": "markdown",
   "id": "90be3a7c-2bc7-4c3c-961e-0dab72b9712e",
   "metadata": {},
   "source": [
    "Q7. Write a List Comprehension to iterate through the given string: ‘pwskills’.\n",
    "\n",
    "Expected output: ['p', 'w', 's', 'k', 'i', 'l', 'l', 's']"
   ]
  },
  {
   "cell_type": "code",
   "execution_count": 15,
   "id": "13766a96-3945-4822-8ca4-b0826218a55e",
   "metadata": {},
   "outputs": [
    {
     "data": {
      "text/plain": [
       "['p', 'w', 's', 'k', 'i', 'l', 'l', 's']"
      ]
     },
     "execution_count": 15,
     "metadata": {},
     "output_type": "execute_result"
    }
   ],
   "source": [
    "str = 'pwskills'\n",
    "l = []\n",
    "for word in str:\n",
    "    l.append(word)\n",
    "    \n",
    "l"
   ]
  },
  {
   "cell_type": "code",
   "execution_count": null,
   "id": "f6178cba-ce83-4798-9f17-b723952ae253",
   "metadata": {},
   "outputs": [],
   "source": [
    "\n",
    "\n",
    "\n"
   ]
  },
  {
   "cell_type": "markdown",
   "id": "37ddb075-24ff-4943-97b4-900ebf0e30fa",
   "metadata": {},
   "source": [
    "Q8. Write a python program to check whether a given number is Palindrome or not using a while loop."
   ]
  },
  {
   "cell_type": "code",
   "execution_count": null,
   "id": "19a3b371-e90d-4542-8594-7a0a2e3c2391",
   "metadata": {},
   "outputs": [],
   "source": []
  },
  {
   "cell_type": "code",
   "execution_count": 16,
   "id": "3da1c157-2518-46a3-bc19-c7d8292e8a47",
   "metadata": {},
   "outputs": [],
   "source": [
    "def check_palindrome(num):\n",
    "    new = num[::-1]\n",
    "    if new == num: \n",
    "        print(\" Its a Palindrome\")\n",
    "    else:\n",
    "        print(\" Excuse Me. check your no boss, it's no Palindrome\")\n"
   ]
  },
  {
   "cell_type": "code",
   "execution_count": 51,
   "id": "9bdee185-7906-4381-95ad-b04bafbff3b4",
   "metadata": {},
   "outputs": [
    {
     "name": "stdin",
     "output_type": "stream",
     "text": [
      " Give a Number :  101\n"
     ]
    },
    {
     "name": "stdout",
     "output_type": "stream",
     "text": [
      " Its a Palindrome\n"
     ]
    }
   ],
   "source": [
    "num = (input(\" Give a Number : \"))\n",
    "check_palindrome(num)\n",
    "       "
   ]
  },
  {
   "cell_type": "code",
   "execution_count": null,
   "id": "ab90585b-1619-43bc-89d1-f58aa7fce297",
   "metadata": {},
   "outputs": [],
   "source": [
    "\n",
    "\n",
    "\n"
   ]
  },
  {
   "cell_type": "markdown",
   "id": "3b84f968-c09f-4f4c-b58a-d1e0657531a9",
   "metadata": {},
   "source": [
    "Q9. Write a code to print odd numbers from 1 to 100 using list comprehension.\n",
    "\n",
    "Note: Use a list comprehension to create a list from 1 to 100 and use another List comprehension to filter\n",
    "out odd numbers."
   ]
  },
  {
   "cell_type": "code",
   "execution_count": 56,
   "id": "d36d0647-d3eb-4efa-a561-dc95322bb398",
   "metadata": {},
   "outputs": [
    {
     "data": {
      "text/plain": [
       "[1,\n",
       " 3,\n",
       " 5,\n",
       " 7,\n",
       " 9,\n",
       " 11,\n",
       " 13,\n",
       " 15,\n",
       " 17,\n",
       " 19,\n",
       " 21,\n",
       " 23,\n",
       " 25,\n",
       " 27,\n",
       " 29,\n",
       " 31,\n",
       " 33,\n",
       " 35,\n",
       " 37,\n",
       " 39,\n",
       " 41,\n",
       " 43,\n",
       " 45,\n",
       " 47,\n",
       " 49,\n",
       " 51,\n",
       " 53,\n",
       " 55,\n",
       " 57,\n",
       " 59,\n",
       " 61,\n",
       " 63,\n",
       " 65,\n",
       " 67,\n",
       " 69,\n",
       " 71,\n",
       " 73,\n",
       " 75,\n",
       " 77,\n",
       " 79,\n",
       " 81,\n",
       " 83,\n",
       " 85,\n",
       " 87,\n",
       " 89,\n",
       " 91,\n",
       " 93,\n",
       " 95,\n",
       " 97,\n",
       " 99]"
      ]
     },
     "execution_count": 56,
     "metadata": {},
     "output_type": "execute_result"
    }
   ],
   "source": [
    "#creation of list\n",
    "l = []\n",
    "for i in range(1, 101):\n",
    "    l.append(i)\n",
    "\n",
    "#to get the odd no \n",
    "odd_l = []\n",
    "for i in l:\n",
    "    if i%2 == 1:\n",
    "        odd_l.append(i)\n",
    "        \n",
    "odd_l"
   ]
  },
  {
   "cell_type": "raw",
   "id": "705c6865-fc63-4f3f-928a-6ff0f392c9ad",
   "metadata": {},
   "source": []
  }
 ],
 "metadata": {
  "kernelspec": {
   "display_name": "Python 3 (ipykernel)",
   "language": "python",
   "name": "python3"
  },
  "language_info": {
   "codemirror_mode": {
    "name": "ipython",
    "version": 3
   },
   "file_extension": ".py",
   "mimetype": "text/x-python",
   "name": "python",
   "nbconvert_exporter": "python",
   "pygments_lexer": "ipython3",
   "version": "3.10.8"
  }
 },
 "nbformat": 4,
 "nbformat_minor": 5
}
