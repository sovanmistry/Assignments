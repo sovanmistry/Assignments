{
 "cells": [
  {
   "cell_type": "markdown",
   "id": "35724615-388c-4552-ad58-d157fac03239",
   "metadata": {},
   "source": [
    "Q1. Explain with an example each when to use a for loop and a while loop."
   ]
  },
  {
   "cell_type": "markdown",
   "id": "65a2be6d-c50f-4824-bd67-6639ec0ea8f1",
   "metadata": {},
   "source": [
    "For Loop :\n",
    "\n",
    "when we know the no of iterations, also loop start first, then it check the condition.  "
   ]
  },
  {
   "cell_type": "code",
   "execution_count": 4,
   "id": "fc6f962c-985c-4aef-b984-054149952893",
   "metadata": {},
   "outputs": [
    {
     "name": "stdout",
     "output_type": "stream",
     "text": [
      "0\n",
      "1\n",
      "2\n",
      "3\n",
      "4\n",
      "5\n",
      "6\n",
      "7\n",
      "8\n",
      "9\n"
     ]
    }
   ],
   "source": [
    "for i in range(10):\n",
    "    print(i)"
   ]
  },
  {
   "cell_type": "code",
   "execution_count": null,
   "id": "194c86c9-f69b-4dae-a888-445aa7bd15f6",
   "metadata": {},
   "outputs": [],
   "source": []
  },
  {
   "cell_type": "markdown",
   "id": "4536342f-b7b7-4ce3-9542-ce0b471a9bce",
   "metadata": {},
   "source": [
    "While loop:\n",
    "\n",
    "It first check the condition, loop only runs if the condition satisfy. "
   ]
  },
  {
   "cell_type": "code",
   "execution_count": 5,
   "id": "4adc7135-dd9a-4467-bf49-3329fbc1da1c",
   "metadata": {},
   "outputs": [
    {
     "name": "stdout",
     "output_type": "stream",
     "text": [
      "0\n",
      "1\n",
      "2\n",
      "3\n",
      "4\n",
      "5\n",
      "6\n",
      "7\n",
      "8\n",
      "9\n"
     ]
    }
   ],
   "source": [
    "n = 0\n",
    "while n<10:\n",
    "    print(n)\n",
    "    n = n+1 "
   ]
  },
  {
   "cell_type": "code",
   "execution_count": null,
   "id": "165df4e0-1066-4630-8c35-07636066831d",
   "metadata": {},
   "outputs": [],
   "source": [
    "\n",
    "\n",
    "\n",
    "\n"
   ]
  },
  {
   "cell_type": "markdown",
   "id": "4e1bf0f3-b136-460f-bb4a-93e0ba4fbe89",
   "metadata": {},
   "source": [
    "Q2. Write a python program to print the sum and product of the first 10 natural numbers using for\n",
    "and while loop."
   ]
  },
  {
   "cell_type": "markdown",
   "id": "d8ec9636-e0f0-4c57-8f19-3fafdd2e0b32",
   "metadata": {},
   "source": [
    "For Loop"
   ]
  },
  {
   "cell_type": "code",
   "execution_count": 6,
   "id": "57b333c0-4ce3-4192-b259-1d464945c20a",
   "metadata": {},
   "outputs": [
    {
     "name": "stdout",
     "output_type": "stream",
     "text": [
      "Sum is :  55 \n",
      "product is :  3628800\n"
     ]
    }
   ],
   "source": [
    "sum =0 \n",
    "prd = 1\n",
    "\n",
    "for i in range(1,11):\n",
    "    sum = sum+i\n",
    "    prd = prd * i\n",
    "\n",
    "print( 'Sum is : ', sum, '\\nproduct is : ',prd)"
   ]
  },
  {
   "cell_type": "code",
   "execution_count": null,
   "id": "159a78eb-3f4b-4f15-a093-d9df0b58bd62",
   "metadata": {},
   "outputs": [],
   "source": []
  },
  {
   "cell_type": "markdown",
   "id": "10ba68fd-10c7-44bc-a6ec-0c6961eeb2da",
   "metadata": {},
   "source": [
    "While Loop"
   ]
  },
  {
   "cell_type": "code",
   "execution_count": 7,
   "id": "c0389192-4b0e-4516-9024-03addc9207a0",
   "metadata": {},
   "outputs": [
    {
     "name": "stdout",
     "output_type": "stream",
     "text": [
      "Sum is :  55 \n",
      "product is :  3628800\n"
     ]
    }
   ],
   "source": [
    "i = 1\n",
    "sum = 0 \n",
    "prd = 1\n",
    "count = 1\n",
    "while count <=10 :\n",
    "    sum = sum + i\n",
    "    prd = prd * i \n",
    "    i += 1\n",
    "    count +=1\n",
    "    \n",
    "print( 'Sum is : ', sum, '\\nproduct is : ',prd)"
   ]
  },
  {
   "cell_type": "code",
   "execution_count": null,
   "id": "4f527326-c724-47d8-93b3-40ca891ee785",
   "metadata": {},
   "outputs": [],
   "source": [
    "\n",
    "\n",
    "\n",
    "\n"
   ]
  },
  {
   "cell_type": "markdown",
   "id": "f5e1fb66-7806-42f2-ab84-073b9b7de4fb",
   "metadata": {},
   "source": [
    "3. Complete the electricity bill of house\n",
    "\n",
    "The per-unit charges in rupees are as follows: For the first 100 units, the user will be charged Rs. 4.5 per\n",
    "unit, for the next 100 units, the user will be charged Rs. 6 per unit, and for the next 100 units, the user will\n",
    "be charged Rs. 10 per unit, After 300 units and above the user will be charged Rs. 20 per unit.\n",
    "\n"
   ]
  },
  {
   "cell_type": "code",
   "execution_count": 8,
   "id": "33599507-2e46-4ffa-8ef5-04dd5e1f3e7d",
   "metadata": {},
   "outputs": [
    {
     "name": "stdin",
     "output_type": "stream",
     "text": [
      "Enter the unit 310\n"
     ]
    },
    {
     "name": "stdout",
     "output_type": "stream",
     "text": [
      " Bill :  2250.0\n"
     ]
    }
   ],
   "source": [
    "unit = int(input (\"Enter the unit\"))\n",
    "\n",
    "\n",
    "if unit < 100:\n",
    "        cash = unit * 4.5\n",
    "        print(\" Bill : \", cash)\n",
    "        #break\n",
    "        \n",
    "else :\n",
    "    cash = 100*4.5\n",
    "    unit = unit - 100\n",
    "    if unit < 100:\n",
    "        cash += unit * 6\n",
    "        print(\" Bill : \", cash)\n",
    "        #break\n",
    "        \n",
    "    else: \n",
    "        cash += 100*6\n",
    "        unit = unit - 100\n",
    "        if unit <100:\n",
    "            cash += unit*10\n",
    "            print(\" Bill : \", cash)\n",
    "            #break\n",
    "                \n",
    "        else:\n",
    "            cash += 100 * 10\n",
    "            unit = unit - 100\n",
    "            cash += unit*20\n",
    "            print (\" Bill : \", cash)\n",
    "                \n",
    "                "
   ]
  },
  {
   "cell_type": "code",
   "execution_count": null,
   "id": "fa67b4fe-228c-4f80-923a-225d39e4717a",
   "metadata": {},
   "outputs": [],
   "source": [
    "\n",
    "\n",
    "\n"
   ]
  },
  {
   "cell_type": "markdown",
   "id": "df66badd-1441-4297-946e-1243b0a33972",
   "metadata": {},
   "source": [
    "Q4. Create a list of numbers from 1 to 100. Use for loop and while loop to calculate the cube of each\n",
    "number and if the cube of that number is divisible by 4 or 5 then append that number in a list and print\n",
    "that list."
   ]
  },
  {
   "cell_type": "markdown",
   "id": "78229783-6cb9-4ca9-b4f5-8ef4fd268feb",
   "metadata": {},
   "source": [
    "With For Loop"
   ]
  },
  {
   "cell_type": "code",
   "execution_count": 9,
   "id": "3dc54690-0e3b-45be-83c4-552a7b7d6b82",
   "metadata": {},
   "outputs": [
    {
     "data": {
      "text/plain": [
       "[2,\n",
       " 4,\n",
       " 5,\n",
       " 6,\n",
       " 8,\n",
       " 10,\n",
       " 12,\n",
       " 14,\n",
       " 15,\n",
       " 16,\n",
       " 18,\n",
       " 20,\n",
       " 22,\n",
       " 24,\n",
       " 25,\n",
       " 26,\n",
       " 28,\n",
       " 30,\n",
       " 32,\n",
       " 34,\n",
       " 35,\n",
       " 36,\n",
       " 38,\n",
       " 40,\n",
       " 42,\n",
       " 44,\n",
       " 45,\n",
       " 46,\n",
       " 48,\n",
       " 50,\n",
       " 52,\n",
       " 54,\n",
       " 55,\n",
       " 56,\n",
       " 58,\n",
       " 60,\n",
       " 62,\n",
       " 64,\n",
       " 65,\n",
       " 66,\n",
       " 68,\n",
       " 70,\n",
       " 72,\n",
       " 74,\n",
       " 75,\n",
       " 76,\n",
       " 78,\n",
       " 80,\n",
       " 82,\n",
       " 84,\n",
       " 85,\n",
       " 86,\n",
       " 88,\n",
       " 90,\n",
       " 92,\n",
       " 94,\n",
       " 95,\n",
       " 96,\n",
       " 98,\n",
       " 100]"
      ]
     },
     "execution_count": 9,
     "metadata": {},
     "output_type": "execute_result"
    }
   ],
   "source": [
    "\n",
    "n = range(1,101)\n",
    "\n",
    "output_list = []\n",
    "for i in n:\n",
    "    \n",
    "    \"\"\"print(i)\n",
    "    i +=1\"\"\"\n",
    "    \n",
    "    if pow(i,3)%4 == 0 or pow(i,3)%5 == 0:\n",
    "        output_list.append(i)\n",
    "    \n",
    "\n",
    "output_list\n",
    "\n"
   ]
  },
  {
   "cell_type": "markdown",
   "id": "73fe1e8a-db45-4a7d-902a-c2433edf24c0",
   "metadata": {},
   "source": [
    "with While Loop"
   ]
  },
  {
   "cell_type": "code",
   "execution_count": 10,
   "id": "4cb511e4-2013-4e5b-b730-db3777591574",
   "metadata": {},
   "outputs": [
    {
     "data": {
      "text/plain": [
       "[2,\n",
       " 4,\n",
       " 5,\n",
       " 6,\n",
       " 8,\n",
       " 10,\n",
       " 12,\n",
       " 14,\n",
       " 15,\n",
       " 16,\n",
       " 18,\n",
       " 20,\n",
       " 22,\n",
       " 24,\n",
       " 25,\n",
       " 26,\n",
       " 28,\n",
       " 30,\n",
       " 32,\n",
       " 34,\n",
       " 35,\n",
       " 36,\n",
       " 38,\n",
       " 40,\n",
       " 42,\n",
       " 44,\n",
       " 45,\n",
       " 46,\n",
       " 48,\n",
       " 50,\n",
       " 52,\n",
       " 54,\n",
       " 55,\n",
       " 56,\n",
       " 58,\n",
       " 60,\n",
       " 62,\n",
       " 64,\n",
       " 65,\n",
       " 66,\n",
       " 68,\n",
       " 70,\n",
       " 72,\n",
       " 74,\n",
       " 75,\n",
       " 76,\n",
       " 78,\n",
       " 80,\n",
       " 82,\n",
       " 84,\n",
       " 85,\n",
       " 86,\n",
       " 88,\n",
       " 90,\n",
       " 92,\n",
       " 94,\n",
       " 95,\n",
       " 96,\n",
       " 98,\n",
       " 100]"
      ]
     },
     "execution_count": 10,
     "metadata": {},
     "output_type": "execute_result"
    }
   ],
   "source": [
    "output_list = []\n",
    "i = 1\n",
    "\n",
    "while i <= 100:\n",
    "    if pow(i,3)%4 == 0 or pow(i,3)%5 == 0:\n",
    "        output_list.append(i)\n",
    "    i += 1\n",
    "    \n",
    "\n",
    "#len(output_list)\n",
    "output_list"
   ]
  },
  {
   "cell_type": "code",
   "execution_count": null,
   "id": "987a7536-4b4c-4bb8-8250-67e31efc6eda",
   "metadata": {},
   "outputs": [],
   "source": [
    "\n",
    "\n",
    "\n",
    "\n"
   ]
  },
  {
   "cell_type": "markdown",
   "id": "475c03f2-aef0-4a9f-be93-2735edab5a0e",
   "metadata": {},
   "source": [
    "Q5. Write a program to filter count vowels in the below-given string.\n",
    "\n",
    "string = \"I want to become a data scientist\""
   ]
  },
  {
   "cell_type": "code",
   "execution_count": 11,
   "id": "69c60827-0a06-41d1-9d9c-1fd1b5398774",
   "metadata": {},
   "outputs": [
    {
     "name": "stdout",
     "output_type": "stream",
     "text": [
      "12\n"
     ]
    }
   ],
   "source": [
    "string = \"I want to become a data scientist\"\n",
    "\n",
    "vowel = ['A', 'E', 'I', 'O', 'U']\n",
    "count = 0\n",
    "for i in string: \n",
    "    for j in vowel:\n",
    "        if i.upper() == j:\n",
    "            count +=1\n",
    "print(count)"
   ]
  }
 ],
 "metadata": {
  "kernelspec": {
   "display_name": "Python 3 (ipykernel)",
   "language": "python",
   "name": "python3"
  },
  "language_info": {
   "codemirror_mode": {
    "name": "ipython",
    "version": 3
   },
   "file_extension": ".py",
   "mimetype": "text/x-python",
   "name": "python",
   "nbconvert_exporter": "python",
   "pygments_lexer": "ipython3",
   "version": "3.10.8"
  }
 },
 "nbformat": 4,
 "nbformat_minor": 5
}
