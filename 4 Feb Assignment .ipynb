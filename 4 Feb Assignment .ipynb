{
 "cells": [
  {
   "cell_type": "markdown",
   "id": "960496aa-2cd4-4dd4-a867-f8016b89a29a",
   "metadata": {},
   "source": [
    "                                                                4 Feb Assignments"
   ]
  },
  {
   "cell_type": "markdown",
   "id": "4f831e2c-8e3a-464f-ab8f-f60248ad483e",
   "metadata": {},
   "source": [
    "Q1. Create a python program to sort the given list of tuples based on integer value using a\n",
    "lambda function.\n",
    "\n",
    "[('Sachin Tendulkar', 34357), ('Ricky Ponting', 27483), ('Jack Kallis', 25534), ('Virat Kohli', 24936)]"
   ]
  },
  {
   "cell_type": "code",
   "execution_count": 39,
   "id": "de314c1e-520f-4804-b54a-74dec0018625",
   "metadata": {},
   "outputs": [],
   "source": [
    "mylist = [('Sachin Tendulkar', 34357), ('Ricky Ponting', 27483), ('Jack Kallis', 25534), ('Virat Kohli', 24936)]"
   ]
  },
  {
   "cell_type": "code",
   "execution_count": 31,
   "id": "c9cbe59d-b319-417d-abf8-59645f0e4ac4",
   "metadata": {},
   "outputs": [
    {
     "data": {
      "text/plain": [
       "[('Virat Kohli', 24936),\n",
       " ('Jack Kallis', 25534),\n",
       " ('Ricky Ponting', 27483),\n",
       " ('Sachin Tendulkar', 34357)]"
      ]
     },
     "execution_count": 31,
     "metadata": {},
     "output_type": "execute_result"
    }
   ],
   "source": [
    "n = sorted(mylist, key = lambda x: x[1])\n",
    "n"
   ]
  },
  {
   "cell_type": "code",
   "execution_count": null,
   "id": "b36d376c-4907-4c54-aa71-53ae436be0e2",
   "metadata": {},
   "outputs": [],
   "source": [
    "\n",
    "\n",
    "\n"
   ]
  },
  {
   "cell_type": "markdown",
   "id": "12b7f5ab-abbb-43bc-a1db-96ef2ef316ed",
   "metadata": {},
   "source": [
    "Q2. Write a Python Program to find the squares of all the numbers in the given list of integers using\n",
    "lambda and map functions.\n",
    "\n",
    "\n",
    "[1, 2, 3, 4, 5, 6, 7, 8, 9, 10]"
   ]
  },
  {
   "cell_type": "code",
   "execution_count": 32,
   "id": "616e7793-1acc-4ff7-ab8c-544e9d007228",
   "metadata": {},
   "outputs": [],
   "source": [
    "mylist2 = [1, 2, 3, 4, 5, 6, 7, 8, 9, 10]"
   ]
  },
  {
   "cell_type": "code",
   "execution_count": 38,
   "id": "49ebad3e-2394-49c5-b99d-17924211f140",
   "metadata": {},
   "outputs": [
    {
     "name": "stdout",
     "output_type": "stream",
     "text": [
      "[1, 4, 9, 16, 25, 36, 49, 64, 81, 100]\n"
     ]
    }
   ],
   "source": [
    "n2 = list (map( lambda x :  x*x, mylist2))\n",
    "print(n2)"
   ]
  },
  {
   "cell_type": "code",
   "execution_count": null,
   "id": "9e403ad0-c56b-45ba-9212-f4175b30672b",
   "metadata": {},
   "outputs": [],
   "source": [
    "\n",
    "\n",
    "\n"
   ]
  },
  {
   "cell_type": "markdown",
   "id": "5587f430-8dbe-4a8e-b389-ddbd4eb21cbd",
   "metadata": {},
   "source": [
    "Q3. Write a python program to convert the given list of integers into a tuple of strings. Use map and\n",
    "lambda functions\n",
    "\n",
    "\n",
    "Given String: [1, 2, 3, 4, 5, 6, 7, 8, 9, 10]\n",
    "\n",
    "Expected output: ('1', '2', '3', '4', '5', '6', '7', '8', '9', '10')"
   ]
  },
  {
   "cell_type": "code",
   "execution_count": 40,
   "id": "c0f9730d-7025-4e74-8285-d6a3ecd62129",
   "metadata": {},
   "outputs": [],
   "source": [
    "mylist3 = [1, 2, 3, 4, 5, 6, 7, 8, 9, 10]"
   ]
  },
  {
   "cell_type": "code",
   "execution_count": 41,
   "id": "322734a8-5793-4274-9c24-464c1076368d",
   "metadata": {},
   "outputs": [
    {
     "data": {
      "text/plain": [
       "('1', '2', '3', '4', '5', '6', '7', '8', '9', '10')"
      ]
     },
     "execution_count": 41,
     "metadata": {},
     "output_type": "execute_result"
    }
   ],
   "source": [
    "n3 = tuple ( map(lambda x : str(x), mylist3))\n",
    "n3"
   ]
  },
  {
   "cell_type": "code",
   "execution_count": null,
   "id": "ee444cfb-a1a9-4bac-b77b-d189471cc748",
   "metadata": {},
   "outputs": [],
   "source": [
    "\n",
    "\n",
    "\n"
   ]
  },
  {
   "cell_type": "markdown",
   "id": "b7f2df36-d284-498c-963b-9020ee8b5b87",
   "metadata": {},
   "source": [
    "Q4. Write a python program using reduce function to compute the product of a list containing numbers\n",
    "from 1 to 25."
   ]
  },
  {
   "cell_type": "code",
   "execution_count": 64,
   "id": "68487da5-936b-47ff-989e-5ec418e316b8",
   "metadata": {},
   "outputs": [],
   "source": [
    "\n",
    "l = range(1,25)\n",
    "mylist4 = list(l)\n"
   ]
  },
  {
   "cell_type": "code",
   "execution_count": 65,
   "id": "b4d8128c-4c18-4381-9750-5b0d977d0de3",
   "metadata": {},
   "outputs": [],
   "source": [
    "from functools import reduce\n",
    "result4 = reduce(lambda x, y : x*y, mylist4)"
   ]
  },
  {
   "cell_type": "code",
   "execution_count": 66,
   "id": "fc085014-73b2-4886-a32a-93ca04af1092",
   "metadata": {},
   "outputs": [
    {
     "data": {
      "text/plain": [
       "620448401733239439360000"
      ]
     },
     "execution_count": 66,
     "metadata": {},
     "output_type": "execute_result"
    }
   ],
   "source": [
    "result4"
   ]
  },
  {
   "cell_type": "code",
   "execution_count": null,
   "id": "cbd26c7e-4589-4899-80e6-58886a1d7179",
   "metadata": {},
   "outputs": [],
   "source": [
    "\n",
    "\n",
    "\n"
   ]
  },
  {
   "cell_type": "markdown",
   "id": "1e2ca714-88e0-48aa-b07f-856f4603b392",
   "metadata": {},
   "source": [
    "Q5. Write a python program to filter the numbers in a given list that are divisible by 2 and 3 using the\n",
    "filter function.\n",
    "\n",
    "\n",
    "[2, 3, 6, 9, 27, 60, 90, 120, 55, 46]"
   ]
  },
  {
   "cell_type": "code",
   "execution_count": 67,
   "id": "297f1dea-f9e2-42a2-bb6a-627551ab7605",
   "metadata": {},
   "outputs": [],
   "source": [
    "mylist5 = [2, 3, 6, 9, 27, 60, 90, 120, 55, 46]"
   ]
  },
  {
   "cell_type": "code",
   "execution_count": 73,
   "id": "b4065541-f0e8-48d2-8047-bb31244e6052",
   "metadata": {},
   "outputs": [],
   "source": [
    "result5 = list(filter (lambda x : x%2 == 0 and x%3==0 , mylist5))"
   ]
  },
  {
   "cell_type": "code",
   "execution_count": 74,
   "id": "4109981b-3f00-4872-a527-a05e28facbb6",
   "metadata": {},
   "outputs": [
    {
     "data": {
      "text/plain": [
       "[6, 60, 90, 120]"
      ]
     },
     "execution_count": 74,
     "metadata": {},
     "output_type": "execute_result"
    }
   ],
   "source": [
    "result5"
   ]
  },
  {
   "cell_type": "code",
   "execution_count": null,
   "id": "6869ac87-bf43-4cdd-ba69-de7117ac41f7",
   "metadata": {},
   "outputs": [],
   "source": [
    "\n",
    "\n",
    "\n"
   ]
  },
  {
   "cell_type": "markdown",
   "id": "a0def25f-5231-4b42-b317-400f8db1b2ab",
   "metadata": {},
   "source": [
    "Q6. Write a python program to find palindromes in the given list of strings using lambda and filter\n",
    "function.\n",
    "\n",
    "\n",
    "['python', 'php', 'aba', 'radar', 'level']"
   ]
  },
  {
   "cell_type": "code",
   "execution_count": 75,
   "id": "ae54ec6d-b762-49dc-ad9d-526532e4eb1a",
   "metadata": {},
   "outputs": [],
   "source": [
    "mylist6 = ['python', 'php', 'aba', 'radar', 'level']"
   ]
  },
  {
   "cell_type": "code",
   "execution_count": 78,
   "id": "ceca8760-778b-4c7b-b0e1-c8fc3d09b79e",
   "metadata": {},
   "outputs": [],
   "source": [
    "result6 = list(filter(lambda x : x == x[::-1], mylist6))"
   ]
  },
  {
   "cell_type": "code",
   "execution_count": 79,
   "id": "fef1efdb-3b75-48c1-afc5-7a171d214ebf",
   "metadata": {},
   "outputs": [
    {
     "data": {
      "text/plain": [
       "['php', 'aba', 'radar', 'level']"
      ]
     },
     "execution_count": 79,
     "metadata": {},
     "output_type": "execute_result"
    }
   ],
   "source": [
    "result6"
   ]
  },
  {
   "cell_type": "code",
   "execution_count": null,
   "id": "05ca0546-2336-4d8c-b29d-311ab44f0cd6",
   "metadata": {},
   "outputs": [],
   "source": []
  }
 ],
 "metadata": {
  "kernelspec": {
   "display_name": "Python 3 (ipykernel)",
   "language": "python",
   "name": "python3"
  },
  "language_info": {
   "codemirror_mode": {
    "name": "ipython",
    "version": 3
   },
   "file_extension": ".py",
   "mimetype": "text/x-python",
   "name": "python",
   "nbconvert_exporter": "python",
   "pygments_lexer": "ipython3",
   "version": "3.10.8"
  }
 },
 "nbformat": 4,
 "nbformat_minor": 5
}
